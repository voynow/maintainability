{
 "cells": [
  {
   "cell_type": "code",
   "execution_count": 5,
   "metadata": {},
   "outputs": [],
   "source": [
    "from supabase import Client, create_client\n",
    "import os\n",
    "\n",
    "def connect_to_supabase() -> Client:\n",
    "    \"\"\"Connect to Supabase database\"\"\"\n",
    "    return create_client(\n",
    "        os.environ.get(\"SUPABASE_URL\"),\n",
    "        os.environ.get(\"SUPABASE_KEY\"),\n",
    "    )\n",
    "\n",
    "\n",
    "def connect_to_supabase_table(table_name: str) -> Client:\n",
    "    return create_client(\n",
    "        os.environ.get(\"SUPABASE_URL\"),\n",
    "        os.environ.get(\"SUPABASE_KEY\"),\n",
    "    ).table(table_name)\n",
    "\n",
    "\n",
    "def get_metrics(user_email: str, project_name: str):\n",
    "    table = connect_to_supabase_table(\"maintainability\")\n",
    "    return (\n",
    "        table.select(\"*\")\n",
    "        .eq(\"user_email\", user_email)\n",
    "        .eq(\"project_name\", project_name)\n",
    "        .execute()\n",
    "    )"
   ]
  },
  {
   "cell_type": "code",
   "execution_count": 6,
   "metadata": {},
   "outputs": [
    {
     "name": "stderr",
     "output_type": "stream",
     "text": [
      "2023-10-17 16:50:09,019:INFO - HTTP Request: GET https://mgydwipshkixnewazzqb.supabase.co/rest/v1/maintainability?select=%2A&user_email=eq.test&project_name=eq.maintainability \"HTTP/1.1 200 OK\"\n"
     ]
    }
   ],
   "source": [
    "response = get_metrics(\"test\", \"maintainability\")"
   ]
  },
  {
   "cell_type": "code",
   "execution_count": 15,
   "metadata": {},
   "outputs": [],
   "source": [
    "sessions = {}\n",
    "for obj in response.data:\n",
    "    sid = obj['session_id']\n",
    "    if sid not in sessions:\n",
    "        sessions[sid] = []\n",
    "    sessions[sid].append(obj)"
   ]
  },
  {
   "cell_type": "code",
   "execution_count": 18,
   "metadata": {},
   "outputs": [
    {
     "name": "stdout",
     "output_type": "stream",
     "text": [
      "5c271ee8-da99-4618-9601-8800283e98d1 {'readability': 7.7227906976744185, 'design_quality': 6.826976744186046, 'testability': 7.62046511627907, 'consistency': 8.20093023255814, 'debug_error_handling': 7.606511627906975}\n",
      "27f19dfa-b1ef-4101-8830-16400212ff2d {'readability': 7.710887465690758, 'design_quality': 6.813357731015555, 'testability': 7.619396157365052, 'consistency': 8.188472095150962, 'debug_error_handling': 7.634034766697164}\n",
      "4d8ec281-f242-4224-9c5c-10435e32c59f {'readability': 7.734676742233418, 'design_quality': 6.828715365239296, 'testability': 7.675062972292192, 'consistency': 8.192275398824519, 'debug_error_handling': 7.588581024349287}\n",
      "42ece357-4531-4922-8d49-10963a674a23 {'readability': 7.727272727272728, 'design_quality': 6.819000819000819, 'testability': 7.5782145782145784, 'consistency': 8.25962325962326, 'debug_error_handling': 7.645372645372647}\n"
     ]
    }
   ],
   "source": [
    "for session, objs in sessions.items():\n",
    "\n",
    "    total_loc = 0\n",
    "    for obj in objs:\n",
    "        total_loc += obj['loc']\n",
    "\n",
    "    scores = {\n",
    "        'readability': 0,\n",
    "        'design_quality': 0,\n",
    "        'testability': 0,\n",
    "        'consistency': 0,\n",
    "        'debug_error_handling': 0,\n",
    "    }\n",
    "    for obj in objs:\n",
    "        for key in scores:\n",
    "            scores[key] += obj[key] * (obj['loc'] / total_loc)\n",
    "\n",
    "    print(session, scores)"
   ]
  },
  {
   "cell_type": "code",
   "execution_count": null,
   "metadata": {},
   "outputs": [],
   "source": []
  }
 ],
 "metadata": {
  "kernelspec": {
   "display_name": "venv",
   "language": "python",
   "name": "python3"
  },
  "language_info": {
   "codemirror_mode": {
    "name": "ipython",
    "version": 3
   },
   "file_extension": ".py",
   "mimetype": "text/x-python",
   "name": "python",
   "nbconvert_exporter": "python",
   "pygments_lexer": "ipython3",
   "version": "3.10.1"
  }
 },
 "nbformat": 4,
 "nbformat_minor": 2
}
